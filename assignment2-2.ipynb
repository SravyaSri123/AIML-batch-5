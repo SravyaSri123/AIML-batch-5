{
  "nbformat": 4,
  "nbformat_minor": 0,
  "metadata": {
    "colab": {
      "provenance": [],
      "authorship_tag": "ABX9TyM9XuHJ6/E11+WT4MmL3zr0",
      "include_colab_link": true
    },
    "kernelspec": {
      "name": "python3",
      "display_name": "Python 3"
    },
    "language_info": {
      "name": "python"
    }
  },
  "cells": [
    {
      "cell_type": "markdown",
      "metadata": {
        "id": "view-in-github",
        "colab_type": "text"
      },
      "source": [
        "<a href=\"https://colab.research.google.com/github/SravyaSri123/AIML-batch-5/blob/main/assignment2-2.ipynb\" target=\"_parent\"><img src=\"https://colab.research.google.com/assets/colab-badge.svg\" alt=\"Open In Colab\"/></a>"
      ]
    },
    {
      "cell_type": "code",
      "execution_count": 1,
      "metadata": {
        "colab": {
          "base_uri": "https://localhost:8080/"
        },
        "id": "BEpGA_sMjB91",
        "outputId": "60b1fdb4-1d5e-4de9-9e64-8e86fa6f7c11"
      },
      "outputs": [
        {
          "output_type": "stream",
          "name": "stdout",
          "text": [
            "Depth-First Traversal:\n",
            "a b s c d e h g f "
          ]
        }
      ],
      "source": [
        "def dfs(graph, start, visited=None):\n",
        "    if visited is None:\n",
        "        visited = set()\n",
        "    visited.add(start)\n",
        "    print(start, end=' ')\n",
        "    for neighbor in graph[start]:\n",
        "        if neighbor not in visited:\n",
        "            dfs(graph, neighbor, visited)\n",
        "\n",
        "# Example adjacency list representation of a graph\n",
        "graph = {\n",
        "    'a': ['b', 's'],\n",
        "    'b': ['a'],\n",
        "    's': ['a', 'c', 'g'],\n",
        "    'c': ['d', 'e' ,'f' ,'s'],\n",
        "    'd': ['c'],\n",
        "    'e': ['c', 'h'],\n",
        "    'h': ['g', 'e'],\n",
        "    'f': ['c', 'g'],\n",
        "    'g': ['f' ,'h']\n",
        "}\n",
        "\n",
        "start_vertex = 'a'\n",
        "print(\"Depth-First Traversal:\")\n",
        "dfs(graph, start_vertex)"
      ]
    }
  ]
}