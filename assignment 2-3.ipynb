{
  "nbformat": 4,
  "nbformat_minor": 0,
  "metadata": {
    "colab": {
      "provenance": [],
      "authorship_tag": "ABX9TyP7LcKjKWMJNJrHZbiSyFxs",
      "include_colab_link": true
    },
    "kernelspec": {
      "name": "python3",
      "display_name": "Python 3"
    },
    "language_info": {
      "name": "python"
    }
  },
  "cells": [
    {
      "cell_type": "markdown",
      "metadata": {
        "id": "view-in-github",
        "colab_type": "text"
      },
      "source": [
        "<a href=\"https://colab.research.google.com/github/SravyaSri123/AIML-batch-5/blob/main/assignment%202-3.ipynb\" target=\"_parent\"><img src=\"https://colab.research.google.com/assets/colab-badge.svg\" alt=\"Open In Colab\"/></a>"
      ]
    },
    {
      "cell_type": "code",
      "execution_count": 1,
      "metadata": {
        "colab": {
          "base_uri": "https://localhost:8080/"
        },
        "id": "eBrEHyf1jnES",
        "outputId": "79367926-3db6-4c0a-b73c-0825512670a7"
      },
      "outputs": [
        {
          "output_type": "stream",
          "name": "stdout",
          "text": [
            "Solution Path:\n",
            "Step 0:\n",
            "[[2 8 3]\n",
            " [1 6 4]\n",
            " [7 0 5]]\n",
            "\n",
            "Step 1:\n",
            "[[2 8 3]\n",
            " [1 0 4]\n",
            " [7 6 5]]\n",
            "\n",
            "Step 2:\n",
            "[[2 0 3]\n",
            " [1 8 4]\n",
            " [7 6 5]]\n",
            "\n",
            "Step 3:\n",
            "[[0 2 3]\n",
            " [1 8 4]\n",
            " [7 6 5]]\n",
            "\n",
            "Step 4:\n",
            "[[1 2 3]\n",
            " [0 8 4]\n",
            " [7 6 5]]\n",
            "\n",
            "Step 5:\n",
            "[[1 2 3]\n",
            " [8 0 4]\n",
            " [7 6 5]]\n",
            "\n",
            "Total moves: 5\n"
          ]
        }
      ],
      "source": [
        "import numpy as np\n",
        "\n",
        "def misplaced_tiles(puzzle, goal):\n",
        "    # Calculate the number of misplaced tiles, ignoring the blank space\n",
        "    return np.sum(np.where(puzzle != goal, 1, 0)) - 1\n",
        "\n",
        "def get_neighbors(puzzle):\n",
        "    # Function to get the neighbors (successors) of the current state\n",
        "    neighbors = []\n",
        "    blank_pos = np.where(puzzle == 0)[0][0]\n",
        "    row, col = divmod(blank_pos, 3)\n",
        "\n",
        "    moves = [(-1, 0), (1, 0), (0, -1), (0, 1)]  # Up, Down, Left, Right\n",
        "    for dr, dc in moves:\n",
        "        new_row, new_col = row + dr, col + dc\n",
        "        if 0 <= new_row < 3 and 0 <= new_col < 3:\n",
        "            new_blank_pos = new_row * 3 + new_col\n",
        "            new_puzzle = puzzle.copy()\n",
        "            new_puzzle[blank_pos], new_puzzle[new_blank_pos] = new_puzzle[new_blank_pos], new_puzzle[blank_pos]\n",
        "            neighbors.append(new_puzzle)\n",
        "    return neighbors\n",
        "\n",
        "def a_star_8_puzzle(initial_state, goal_state):\n",
        "    # Initial state setup with g(n)=0 and h(n) using the misplaced_tiles heuristic\n",
        "    state = [{'puzzle': initial_state, 'parent': None, 'gn': 0, 'hn': misplaced_tiles(initial_state, goal_state)}]\n",
        "    explored = []\n",
        "\n",
        "    while state:\n",
        "        # Sort the states by f(n) = g(n) + h(n) and pop the first\n",
        "        state.sort(key=lambda x: x['gn'] + x['hn'])\n",
        "        current = state.pop(0)\n",
        "        explored.append(current['puzzle'].tobytes())\n",
        "\n",
        "        if np.array_equal(current['puzzle'], goal_state):\n",
        "            # Goal state reached, reconstruct and return the path\n",
        "            return reconstruct_path(current, explored)\n",
        "\n",
        "        for neighbor in get_neighbors(current['puzzle']):\n",
        "            if neighbor.tobytes() not in explored:\n",
        "                gn = current['gn'] + 1  # Cost from start to node\n",
        "                hn = misplaced_tiles(neighbor, goal_state)  # Heuristic cost\n",
        "                state.append({'puzzle': neighbor, 'parent': current, 'gn': gn, 'hn': hn})\n",
        "\n",
        "def reconstruct_path(node, explored):\n",
        "    path = []\n",
        "    while node['parent'] is not None:\n",
        "        path.append(node['puzzle'])\n",
        "        node = node['parent']\n",
        "    path.append(node['puzzle'])  # Add the initial state\n",
        "    return path[::-1]  # Return reversed path\n",
        "\n",
        "# Example usage\n",
        "initial_state = np.array([2, 8, 3, 1, 6, 4, 7, 0, 5])\n",
        "goal_state = np.array([1, 2, 3, 8, 0, 4, 7, 6, 5])\n",
        "\n",
        "solution_path = a_star_8_puzzle(initial_state, goal_state)\n",
        "print(\"Solution Path:\")\n",
        "for step, state in enumerate(solution_path):\n",
        "    print(f\"Step {step}:\\n{state.reshape(3, 3)}\\n\")\n",
        "\n",
        "print(f\"Total moves: {len(solution_path) - 1}\")"
      ]
    }
  ]
}